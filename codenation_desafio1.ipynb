{
 "cells": [
  {
   "cell_type": "code",
   "execution_count": null,
   "metadata": {},
   "outputs": [],
   "source": [
    "#Criação da estrutura para receber os dados da API (GET)\n",
    "\n",
    "import requests\n",
    "import json\n",
    "import hashlib\n",
    "\n",
    "\n",
    "urlprincipal = 'https://api.codenation.dev/v1/challenge/dev-ps/generate-data?token=TOKEN'\n",
    "\n",
    "resposta = requests.get(urlprincipal)\n",
    "dados = resposta.json()\n",
    "print(dados)"
   ]
  },
  {
   "cell_type": "code",
   "execution_count": null,
   "metadata": {},
   "outputs": [],
   "source": [
    "#Observando os dados e desencriptando o arquivo \"na mão\", para poder visualizar a mensagem\n",
    "#Obs.: O token foi retirado do código e substituído pela palavra TOKEN\n",
    "\n",
    "dados['cifrado']\n",
    "cripto = 'joufm jotjef jt b hpwfsonfou xbsojoh sfrvjsfe cz mbx. volopxo'\n",
    "decripto = 'intel inside is a government warning required by law. unknown'"
   ]
  },
  {
   "cell_type": "code",
   "execution_count": null,
   "metadata": {},
   "outputs": [],
   "source": [
    "#Criando a função para encriptar/desencriptar\n",
    "def cripto(texto, s):\n",
    "    resultado = ''\n",
    "    \n",
    "    #Percorrendo o texto, um caractere por vez\n",
    "    for i in range (len(texto)):\n",
    "        caractere = texto[i]\n",
    "        \n",
    "        #Encriptando/Desencriptando caracteres\n",
    "        resultado += chr((ord(caractere) + s - 97) % 26 + 97) \n",
    "        \n",
    "    return resultado\n",
    "\n",
    "#Passando o texto criptografado como parâmetro da função cripto\n",
    "texto = \"joufm jotjef jt b hpwfsonfou xbsojoh sfrvjsfe cz mbx. volopx\"\n",
    "s = -1\n",
    "print (\"Texto  : \" + texto) \n",
    "print (\"Shift : \" + str(s))\n",
    "print (\"Cifra: \" + cripto(texto,s))        \n",
    "        "
   ]
  },
  {
   "cell_type": "code",
   "execution_count": null,
   "metadata": {},
   "outputs": [],
   "source": [
    "#Abrindo o .json para processar a mensagem encriptada e aplicando o algoritmo SHA1 para compilar o resumo criptográfico.\n",
    "\n",
    "with open('answer.json','w') as arq:\n",
    "    arq.write(json.dumps(dados))\n",
    "    encoding = arq.encoding\n",
    "    resumocripto = hashlib.sha1(dados[\"decifrado\"].encode(encoding)).hexdigest()\n",
    "    dados[\"resumo_criptografico\"] = resumocripto"
   ]
  },
  {
   "cell_type": "code",
   "execution_count": null,
   "metadata": {},
   "outputs": [],
   "source": [
    "dados = {\n",
    "\t\"numero_casas\": 1,\n",
    "\t\"token\":\"TOKEN\",\n",
    "\t\"cifrado\": \"joufm jotjef jt b hpwfsonfou xbsojoh sfrvjsfe cz mbx. volopxo\",\n",
    "\t\"decifrado\": \"intel inside is a government warning required by law. unknown\",\n",
    "\t\"resumo_criptografico\": resumocripto\n",
    "}\n",
    "\n",
    "json.dumps(dados)"
   ]
  },
  {
   "cell_type": "code",
   "execution_count": null,
   "metadata": {},
   "outputs": [],
   "source": [
    "#Criação da estrutura para devolver os dados da API (POST)\n",
    "#Obs.: A API só recebe dados no formato multipart/form-data, onde é necessário que haja um campo do tipo 'file' com o nome 'answer'\n",
    "\n",
    "token = 'TOKEN'\n",
    "\n",
    "url = 'https://api.codenation.dev/v1/challenge/dev-ps/submit-solution?token=TOKEN'\n",
    "headers = {\n",
    "   \"numero_casas\": \"1\",\n",
    "\t\"token\":\"TOKEN\",\n",
    "\t\"cifrado\": \"joufm jotjef jt b hpwfsonfou xbsojoh sfrvjsfe cz mbx. volopxo\",\n",
    "\t\"decifrado\": \"intel inside is a government warning required by law. unknown\",\n",
    "\t\"resumo_criptografico\": resumocripto\n",
    "   } \n",
    "\n",
    "#Nesta linha os parâmetros são passados no formato multipart/form-data\n",
    "files = {'answer': ('answer', open('answer.json', 'rb'), 'application/json')}\n",
    "request = requests.post(url, headers=headers, files=files)\n",
    "print(request.text)"
   ]
  },
  {
   "cell_type": "code",
   "execution_count": null,
   "metadata": {},
   "outputs": [],
   "source": []
  }
 ],
 "metadata": {
  "kernelspec": {
   "display_name": "Python 3",
   "language": "python",
   "name": "python3"
  },
  "language_info": {
   "codemirror_mode": {
    "name": "ipython",
    "version": 3
   },
   "file_extension": ".py",
   "mimetype": "text/x-python",
   "name": "python",
   "nbconvert_exporter": "python",
   "pygments_lexer": "ipython3",
   "version": "3.7.3"
  }
 },
 "nbformat": 4,
 "nbformat_minor": 4
}
